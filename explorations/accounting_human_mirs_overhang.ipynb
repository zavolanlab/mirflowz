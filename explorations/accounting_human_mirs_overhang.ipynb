{
 "cells": [
  {
   "attachments": {},
   "cell_type": "markdown",
   "metadata": {},
   "source": [
    "# Accounting human miRNA overhangs\n",
    "\n",
    "Input file `hsa.gff3` obtained from miRBase: \n",
    "<https://www.mirbase.org/ftp/CURRENT/genomes/hsa.gff3>\n",
    "\n",
    "## Creating individual lists \n",
    "\n",
    "First of all, different lists for each feature - pre-miRs and mature miRNAs - and split the last one into 3 different files:\n",
    "- `mirna_5p` for the 5p mature miRNAs. \n",
    "- `mirna_3p` for the 3p mature miRNAs.  \n",
    "- `mirna_single` for the pre-miRs with a single mature miRNA.\n",
    "\n",
    "In addition, names in column 9 will be formatted to contain only the name - no ID, no alias."
   ]
  },
  {
   "cell_type": "code",
   "execution_count": 2,
   "metadata": {},
   "outputs": [
    {
     "name": "stdout",
     "output_type": "stream",
     "text": [
      " There are:\n",
      "- 1918 miRNA primary transcripts\n",
      "- 992 mature miRNAs annotated as 5p\n",
      "- 992 mature miRNA annotated as 3p\n",
      "- 899 mature miRNA annotated to be the only transcript of the pre-miRNA\n"
     ]
    }
   ],
   "source": [
    "## Reading file\n",
    "with open(\"hsa.gff3\", \"r\") as f:\n",
    "    records = [line.strip().split() for line in f.readlines() if line[0] != \"#\"]\n",
    "\n",
    "## Formating last col to contain only the name\n",
    "for rec in records:\n",
    "    rec[-1] = rec[-1].split(\"=\")[3].split(\";\")[0]\n",
    "\n",
    "## Nesting lists to create files\n",
    "pre_mirna = [rec for rec in records if rec[2] == \"miRNA_primary_transcript\"]\n",
    "mirna_5p = [rec for rec in records if rec[2] == \"miRNA\" and rec[-1].split(\"-\")[-1] == \"5p\"]\n",
    "mirna_3p = [rec for rec in records if rec[2] == \"miRNA\" and rec[-1].split(\"-\")[-1] == \"3p\"]\n",
    "mirna_single = [rec for rec in records if rec[2] == \"miRNA\" and rec[-1].split(\"-\")[-1] != \"5p\" and rec[-1].split(\"-\")[-1] != \"3p\"]\n",
    "\n",
    "## Removing transcript number from the name     \n",
    "for record in pre_mirna:\n",
    "    name = record[-1].split(\"-\")\n",
    "    record[-1] = \"-\".join(name[:3])\n",
    "\n",
    "print(f\" There are:\\n- {len(pre_mirna)} miRNA primary transcripts\")\n",
    "print(f\"- {len(mirna_5p)} mature miRNAs annotated as 5p\")\n",
    "print(f\"- {len(mirna_3p)} mature miRNA annotated as 3p\")\n",
    "print(f\"- {len(mirna_single)} mature miRNA annotated to be the only transcript of the pre-miRNA\")\n",
    "\n"
   ]
  },
  {
   "attachments": {},
   "cell_type": "markdown",
   "metadata": {},
   "source": [
    "In the [Accounting human miRNA annotation file](https://github.com/zavolanlab/mirflowz/blob/mirna_accounting/explorations/accounting_mirna_annotations.ipynb) there are the same amount of mature miRNA records, 2883, but the distribution among `5p`, `3p` and `single` are different.\n",
    "There are 27 more entries in both the `5p` and the `3p` therefore 54 less entries counted as single mature miRNAs.\n",
    "\n",
    "This difference takes place due to some single-mature miRNA being annotated as `5p` or `3p`. \n",
    "If subtracting the extra sequences and adding them where they belong, the they sum up to the number of pre-mirs, 1918 "
   ]
  },
  {
   "attachments": {},
   "cell_type": "markdown",
   "metadata": {},
   "source": [
    "### Solution\n",
    "\n",
    "Given this situation, the filtering must be done in another way. We know that if a pre-miR has two mature sequences, the features in the `gff3` file will be ordered as:\n",
    "\n",
    "```\n",
    "miRNA_primary_transcript_1\n",
    "miRNA_1\n",
    "miRNA_1\n",
    "miRNA_primary_transcript_2\n",
    "```\n",
    "\n",
    "On the other hand, if the pre-miRNA has a single mature form, the `gff3` will look:\n",
    "\n",
    "```\n",
    "miRNA_primary_transcript_1\n",
    "miRNA_1\n",
    "miRNA_primary_trasncript_2\n",
    "```\n",
    "\n",
    "Provided that the naming of the sequences is not consistent, whenever there is a pre-miR with two mature sequences, these will be merged into a single one going from end to end.   \n",
    "\n",
    "Strandness will be taken into account.\n",
    "\n",
    "Finally, after this proceedure, we should have one mature sequence for each primary one; this is 1918 of each."
   ]
  },
  {
   "cell_type": "code",
   "execution_count": 41,
   "metadata": {},
   "outputs": [
    {
     "name": "stdout",
     "output_type": "stream",
     "text": [
      " There are:\n",
      "- 1918 miRNA primary transcripts\n",
      "- 1918 mature miRNAs\n"
     ]
    }
   ],
   "source": [
    "## Creating empty lists to store entries\n",
    "pre_mirna = []\n",
    "mature_mirna = []\n",
    "\n",
    "## Setting values for previous and next entries\n",
    "prev_rec = None\n",
    "pos_rec = None\n",
    "\n",
    "## For each record except the last two...\n",
    "for idx in range(len(records) - 2):\n",
    "\n",
    "    ## ..if first entry..\n",
    "    if prev_rec == None:\n",
    "        prev_rec = records[idx][2]\n",
    "        pos_rec = records[idx + 2][2]\n",
    "        record = [records[idx][0],\n",
    "                  records[idx][2],\n",
    "                  records[idx][3],\n",
    "                  records[idx][4],\n",
    "                  records[idx][6],\n",
    "                  records[idx][8]]\n",
    "        pre_mirna.append(record)\n",
    "\n",
    "    ## ..otherwise..\n",
    "    else:\n",
    "        if records[idx][2] == \"miRNA_primary_transcript\":\n",
    "            record = [records[idx][0],\n",
    "                      records[idx][2],\n",
    "                      records[idx][3],\n",
    "                      records[idx][4],\n",
    "                      records[idx][6],\n",
    "                      records[idx][8]]\n",
    "            pre_mirna.append(record)\n",
    "        else:\n",
    "            if prev_rec == pos_rec:\n",
    "                record = [records[idx][0],\n",
    "                          records[idx][2],\n",
    "                          records[idx][3],\n",
    "                          records[idx][4],\n",
    "                          records[idx][6],\n",
    "                          records[idx][8]]\n",
    "                mature_mirna.append(record)\n",
    "            else:\n",
    "                if pos_rec == \"miRNA\":\n",
    "                    if records[idx][3] < records[idx + 1][4]:\n",
    "                        record = [records[idx][0],\n",
    "                                  records[idx][2],\n",
    "                                  records[idx][3],\n",
    "                                  records[idx + 1][4],\n",
    "                                  records[idx][6],\n",
    "                                  records[idx][8]]\n",
    "                    elif records[idx][3] > records[idx + 1][4]:\n",
    "                        record = [records[idx][0],\n",
    "                                  records[idx][2],\n",
    "                                  records[idx + 1][3],\n",
    "                                  records[idx][4],\n",
    "                                  records[idx][6],\n",
    "                                  records[idx][8]]\n",
    "                    mature_mirna.append(record)              \n",
    "        prev_rec = records[idx][2]\n",
    "        pos_rec = records[idx + 2][2]\n",
    "\n",
    "## Reading last two entries\n",
    "if records[-2][2] == \"miRNA_primary_transcript\":\n",
    "    pre_record = [records[-2][0],\n",
    "                  records[-2][2],\n",
    "                  records[-2][3],\n",
    "                  records[-2][4],\n",
    "                  records[-2][6],\n",
    "                  records[-2][8]]\n",
    "    record = [records[-1][0],\n",
    "              records[-1][2],\n",
    "              records[-1][3],\n",
    "              records[-1][4],\n",
    "              records[-1][6],\n",
    "              records[-1][8]]\n",
    "    pre_mirna.append(pre_record)\n",
    "else:\n",
    "    if records[-2][3] < records[-1][4]:\n",
    "        record = [records[-2][0],\n",
    "                  records[-2][2],\n",
    "                  records[-2][3],\n",
    "                  records[-1][4],\n",
    "                  records[-2][6],\n",
    "                  records[-2][8]]\n",
    "    elif records[-2][3] > records[-1][4]:\n",
    "        record = [records[-2][0],\n",
    "                  records[-2][2],\n",
    "                  records[-1][3],\n",
    "                  records[-2][4],\n",
    "                  records[-2][6],\n",
    "                  records[-2][8]]\n",
    "mature_mirna.append(record)                \n",
    "\n",
    "\n",
    "print(f\" There are:\\n- {len(pre_mirna)} miRNA primary transcripts\")\n",
    "print(f\"- {len(mature_mirna)} mature miRNAs\")"
   ]
  },
  {
   "attachments": {},
   "cell_type": "markdown",
   "metadata": {},
   "source": [
    "Now that we have one mature sequence per each pre-miRNA, let's check that the mature sequence lays within the pre-miRNA coordinates."
   ]
  },
  {
   "cell_type": "code",
   "execution_count": 42,
   "metadata": {},
   "outputs": [
    {
     "name": "stdout",
     "output_type": "stream",
     "text": [
      "The pre-miRNA hsa-mir-4525:\n",
      "- Has strandness -\n",
      "- Starts at position 82668233\n",
      "- Ends at position 82668307\n",
      " \n",
      "The mature miRNA hsa-miR-4525:\n",
      "- Has strandness -\n",
      "- Starts at position 82668281\n",
      "- Ends at position 82668301\n",
      "\n",
      "---------------------------------\n",
      "\n",
      "The pre-miRNA hsa-mir-4252:\n",
      "- Has strandness -\n",
      "- Starts at position 6429834\n",
      "- Ends at position 6429896\n",
      "\n",
      "The mature miRNA hsa-miR-4252:\n",
      "- Has strandness -\n",
      "- Starts at position 6429844\n",
      "- Ends at position 6429862\n"
     ]
    }
   ],
   "source": [
    "print(f\"The pre-miRNA {pre_mirna[808][-1]}:\")\n",
    "print(f\"- Has strandness {pre_mirna[808][-2]}\")\n",
    "print(f\"- Starts at position {pre_mirna[808][2]}\")\n",
    "print(f\"- Ends at position {pre_mirna[808][3]}\")\n",
    "print(f\" \\nThe mature miRNA {mature_mirna[808][-1]}:\")\n",
    "print(f\"- Has strandness {mature_mirna[808][-2]}\")\n",
    "print(f\"- Starts at position {mature_mirna[808][2]}\")\n",
    "print(f\"- Ends at position {mature_mirna[808][3]}\")\n",
    "print(f\"\\n---------------------------------\\n\")\n",
    "print(f\"The pre-miRNA {pre_mirna[13][-1]}:\")\n",
    "print(f\"- Has strandness {pre_mirna[13][-2]}\")\n",
    "print(f\"- Starts at position {pre_mirna[13][2]}\")\n",
    "print(f\"- Ends at position {pre_mirna[13][3]}\")\n",
    "print(f\"\\nThe mature miRNA {mature_mirna[13][-1]}:\")\n",
    "print(f\"- Has strandness {mature_mirna[13][-2]}\")\n",
    "print(f\"- Starts at position {mature_mirna[13][2]}\")\n",
    "print(f\"- Ends at position {mature_mirna[13][3]}\")"
   ]
  },
  {
   "attachments": {},
   "cell_type": "markdown",
   "metadata": {},
   "source": [
    "From how the lists are made, we know that the pre-miRNA at the n-th position, has its mature sequence on the n-th position of the mature miRNA list."
   ]
  },
  {
   "cell_type": "code",
   "execution_count": 43,
   "metadata": {},
   "outputs": [
    {
     "name": "stdout",
     "output_type": "stream",
     "text": [
      "The primary transcripts hsa-mir-4252, hsa-mir-6738 and hsa-mir-603,\n",
      "have as mature miRNAs hsa-miR-4252, hsa-miR-6738-5p and hsa-miR-603 respectively.\n"
     ]
    }
   ],
   "source": [
    "print(f\"The primary transcripts {pre_mirna[13][-1]}, {pre_mirna[97][-1]} and {pre_mirna[170][-1]},\\nhave as mature miRNAs {mature_mirna[13][-1]}, {mature_mirna[97][-1]} and {mature_mirna[170][-1]} respectively.\")"
   ]
  },
  {
   "cell_type": "code",
   "execution_count": 44,
   "metadata": {},
   "outputs": [],
   "source": [
    "from collections import defaultdict\n",
    "\n",
    "overhang_5 = defaultdict(lambda: 0)\n",
    "overhang_3 = defaultdict(lambda: 0)\n",
    "overhang_seqs = defaultdict(lambda: 0)\n",
    "\n",
    "\n",
    "for idx in range(len(pre_mirna)):\n",
    "    if pre_mirna[idx][-2] == '-':\n",
    "        over_3 = int(mature_mirna[idx][2]) - int(pre_mirna[idx][2])\n",
    "        over_5 = int(pre_mirna[idx][3]) - int(mature_mirna[idx][3])\n",
    "    else:\n",
    "        over_3 = int(pre_mirna[idx][3]) - int(mature_mirna[idx][3])\n",
    "        over_5 = int(mature_mirna[idx][2]) - int(pre_mirna[idx][2])\n",
    "\n",
    "    if over_3 > 20:\n",
    "        over_3 = \"20+\"\n",
    "    if over_5 > 20:\n",
    "        over_5 = \"20+\"\n",
    "    overhang_5[over_5] += 1\n",
    "    overhang_3[over_3] += 1\n",
    "    overhang_seqs[pre_mirna[idx][-1]] = [over_5, over_3]"
   ]
  },
  {
   "attachments": {},
   "cell_type": "markdown",
   "metadata": {},
   "source": [
    "Before creating the tables, let's make some manual checkings using the dictionary `overhang_seqs. Some manual overhangs calculated from the `hsa.gff3` file are:\n",
    "\n",
    "    - hsa-mir-6808 has a 5p overhang of 5 and a 3p overhang of 0.\n",
    "    - hsa-mir-4695 has a 5p overhang of 4 and a 3p overhang of 2.\n",
    "    - hsa-mir-34a has a 5p overhang of 21 and a 3p overhang of 25.\n",
    "    - hsa-mir-5585 has a 5p overhang of 0 and a 3p overhang of 0.\n",
    "    - hsa-mir-488 has a 5p overhang of 13 and a 3p overhang of 11.\n",
    "    - hsa-mir-1278 has a 5p overhang of 49 and a 3p overhang of 10.\n",
    "    - hsa-mir-3124 has a 5p overhang of 6 and a 3p overhang of 4.\n",
    "\n",
    "Their corresponding overhangs according the algorithm are:"
   ]
  },
  {
   "cell_type": "code",
   "execution_count": 45,
   "metadata": {},
   "outputs": [
    {
     "name": "stdout",
     "output_type": "stream",
     "text": [
      "- hsa-mir-6806 has a 5p overhang of 5 and a 3p overhang of 0.\n",
      "- hsa-mir-4695 has a 5p overhang of 4 and a 3p overhang of 2.\n",
      "- hsa-mir-34a has a 5p overhang of 20+ and a 3p overhang of 20+.\n",
      "- hsa-mir-5585 has a 5p overhang of 0 and a 3p overhang of 0.\n",
      "- hsa-mir-488 has a 5p overhang of 13 and a 3p overhang of 11.\n",
      "- hsa-mir-1278 has a 5p overhang of 20+ and a 3p overhang of 10.\n",
      "- hsa-mir-3124 has a 5p overhang of 6 and a 3p overhang of 4.\n"
     ]
    }
   ],
   "source": [
    "mirs = [\"hsa-mir-6806\", \n",
    "        \"hsa-mir-4695\", \n",
    "        \"hsa-mir-34a\", \n",
    "        \"hsa-mir-5585\", \n",
    "        \"hsa-mir-488\", \n",
    "        \"hsa-mir-1278\", \n",
    "        \"hsa-mir-3124\"]\n",
    "\n",
    "for mir in mirs:\n",
    "    print(f\"- {mir} has a 5p overhang of {overhang_seqs[mir][0]} and a 3p overhang of {overhang_seqs[mir][1]}.\")"
   ]
  },
  {
   "attachments": {},
   "cell_type": "markdown",
   "metadata": {},
   "source": [
    "Finally, the dictionaries storing the counts will be turned into dataframes to manipulate them in R studio."
   ]
  },
  {
   "cell_type": "code",
   "execution_count": 46,
   "metadata": {},
   "outputs": [],
   "source": [
    "import pandas as pd\n",
    "\n",
    "df3 = pd.DataFrame(overhang_3, index=[0])\n",
    "df3.to_csv(\"count_3.csv\", index = False, sep = \"\\t\")\n",
    "\n",
    "df5 = pd.DataFrame(overhang_5, index=[0])\n",
    "df5.to_csv(\"count_5.csv\", index = False, sep = \"\\t\")"
   ]
  },
  {
   "attachments": {},
   "cell_type": "markdown",
   "metadata": {},
   "source": [
    "## Results\n",
    "\n",
    "What follows is the script used in R to create the tables:\n",
    "\n",
    "```R\n",
    "library(tidyr)\n",
    "library(dplyr)\n",
    "\n",
    "## Creating table for the 3p overhangs\n",
    "count_3 <- read.csv(\"count_3.csv\", header = F, sep = \"\\t\")\n",
    "count_3 <- as.data.frame(t(count_3))\n",
    "row.names(count_3) <- NULL\n",
    "colnames(count_3) <- c(\"Overhang\", \"Count\")\n",
    "\n",
    "count_3 <- count_3 %>% \n",
    "                mutate(\"Fraction\" = round(as.numeric(Count) /1918, 4)) %>%\n",
    "                arrange(as.numeric(Overhang))\n",
    "count_3$Overhang <- as.numeric(count_3$Overhang)\n",
    "cum3 <- cumsum(count_3$Fraction)\n",
    "count_3 <- count_3 %>%\n",
    "  mutate(\"Comulative Proportion\" = cum3)\n",
    "\n",
    "\n",
    "## Creating table for the 5p overhangs\n",
    "count_5 <- read.csv(\"count_5.csv\", header = F, sep = \"\\t\")\n",
    "count_5 <- as.data.frame(t(count_5))\n",
    "row.names(count_5) <- NULL\n",
    "colnames(count_5) <- c(\"Overhang\", \"Count\")\n",
    "\n",
    "count_5 <- count_5 %>% \n",
    "                mutate(\"Fraction\" = round(as.numeric(Count) /1918, 4)) %>%\n",
    "                arrange(as.numeric(Overhang))\n",
    "count_5$Overhang <- as.numeric(count_5$Overhang)\n",
    "cum5 <- cumsum(count_5$Fraction)\n",
    "count_5 <- count_5 %>%\n",
    "  mutate(\"Comulative Proportion\" = cum5)\n",
    "\n",
    "\n",
    "# Merging tables\n",
    "\n",
    "both <- inner_join(count_5, count_3,by = \"Overhang\", suffix = c(\"_5p\", \"_3p\")) %>%\n",
    "        arrange(as.numeric(Overhang))\n",
    "  \n",
    "both$Overhang[22] <- \"20+\"\n",
    "\n",
    "\n",
    "\n",
    "write.table(both, \"overhang.txt\", quote = F, sep = \"\\t\", row.names = F)\n",
    "```"
   ]
  },
  {
   "attachments": {},
   "cell_type": "markdown",
   "metadata": {},
   "source": [
    "The final table looks like:\n",
    "\n",
    "|Overhang (nts) |Count_5p | Proportion_5p| Cumulative_5p|Count_3p | Proportion_3p| Cumulative_3p| \n",
    "|:--------------|:--------|-------------:|-------------:|:--------|-------------:|-------------:| \n",
    "|0              |118      |        0.0615|        0.0615|250      |        0.1303|        0.1303| \n",
    "|1              |23       |        0.0120|        0.0735|43       |        0.0224|        0.1527| \n",
    "|2              |30       |        0.0156|        0.0891|53       |        0.0276|        0.1803| \n",
    "|3              |33       |        0.0172|        0.1063|46       |        0.0240|        0.2043| \n",
    "|4              |45       |        0.0235|        0.1298|50       |        0.0261|        0.2304| \n",
    "|5              |208      |        0.1084|        0.2382|34       |        0.0177|        0.2481| \n",
    "|6              |34       |        0.0177|        0.2559|45       |        0.0235|        0.2716| \n",
    "|7              |40       |        0.0209|        0.2768|56       |        0.0292|        0.3008| \n",
    "|8              |53       |        0.0276|        0.3044|52       |        0.0271|        0.3279| \n",
    "|9              |145      |        0.0756|        0.3800|72       |        0.0375|        0.3654| \n",
    "|10             |141      |        0.0735|        0.4535|169      |        0.0881|        0.4535| \n",
    "|11             |37       |        0.0193|        0.4728|85       |        0.0443|        0.4978| \n",
    "|12             |51       |        0.0266|        0.4994|76       |        0.0396|        0.5374| \n",
    "|13             |54       |        0.0282|        0.5276|55       |        0.0287|        0.5661| \n",
    "|14             |79       |        0.0412|        0.5688|42       |        0.0219|        0.5880| \n",
    "|15             |114      |        0.0594|        0.6282|84       |        0.0438|        0.6318| \n",
    "|16             |14       |        0.0073|        0.6355|15       |        0.0078|        0.6396| \n",
    "|17             |14       |        0.0073|        0.6428|24       |        0.0125|        0.6521| \n",
    "|18             |12       |        0.0063|        0.6491|15       |        0.0078|        0.6599| \n",
    "|19             |18       |        0.0094|        0.6585|19       |        0.0099|        0.6698| \n",
    "|20             |30       |        0.0156|        0.6741|16       |        0.0083|        0.6781| \n",
    "|20+            |625      |        0.3259|        1.0000|617      |        0.3217|        0.9998|"
   ]
  }
 ],
 "metadata": {
  "kernelspec": {
   "display_name": "Python 3",
   "language": "python",
   "name": "python3"
  },
  "language_info": {
   "codemirror_mode": {
    "name": "ipython",
    "version": 3
   },
   "file_extension": ".py",
   "mimetype": "text/x-python",
   "name": "python",
   "nbconvert_exporter": "python",
   "pygments_lexer": "ipython3",
   "version": "3.10.6"
  },
  "orig_nbformat": 4
 },
 "nbformat": 4,
 "nbformat_minor": 2
}
