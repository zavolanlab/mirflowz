{
 "cells": [
  {
   "cell_type": "markdown",
   "id": "a2e43bdb",
   "metadata": {},
   "source": [
    "# Accounting human miRNA annotation file\n",
    "\n",
    "Input file `hsa.gff3` obtained from miRBAse: https://www.mirbase.org/ftp/CURRENT/genomes/hsa.gff3"
   ]
  },
  {
   "cell_type": "markdown",
   "id": "2f5f631f",
   "metadata": {},
   "source": [
    "## Accounting for all records in file\n",
    "\n",
    "First we are checking that the file only consists of comments, pre-miR and mature miRNA records:"
   ]
  },
  {
   "cell_type": "code",
   "execution_count": 3,
   "id": "638a9fdb",
   "metadata": {},
   "outputs": [
    {
     "name": "stdout",
     "output_type": "stream",
     "text": [
      "n_lines=4814\n",
      "\n",
      "comments=13\n",
      "len(premirs)=1918\n",
      "len(mature)=2883\n",
      "len(other)=0\n",
      "\n",
      "Total number of lines in file equals to number of comments, pre-miRNA and mature miRNA records: True\n"
     ]
    }
   ],
   "source": [
    "comments = 0\n",
    "premirs = []\n",
    "mature = []\n",
    "other = []\n",
    "with open(\"hsa.gff3\") as _file:\n",
    "    for record in _file:\n",
    "        if record.startswith(\"#\"):\n",
    "            comments += 1\n",
    "            continue\n",
    "        record = record.split()\n",
    "        if record[2] == \"miRNA_primary_transcript\":\n",
    "            premirs.append(record[8])\n",
    "        elif record[2] == \"miRNA\":\n",
    "            mature.append(record[8])\n",
    "        else:\n",
    "            other.append(record)\n",
    "\n",
    "with open(\"hsa.gff3\") as _file:\n",
    "    n_lines = len(_file.readlines())\n",
    "\n",
    "print(f\"{n_lines=}\\n\")            \n",
    "print(f\"{comments=}\")\n",
    "print(f\"{len(premirs)=}\")\n",
    "print(f\"{len(mature)=}\")\n",
    "print(f\"{len(other)=}\")\n",
    "print(\n",
    "    \"\\nTotal number of lines in file equals to number \"\n",
    "    \"of comments, pre-miRNA and mature miRNA records: \"\n",
    "    f\"{n_lines == comments + len(premirs) + len(mature)}\"\n",
    ")"
   ]
  },
  {
   "cell_type": "markdown",
   "id": "840d00f7",
   "metadata": {},
   "source": [
    "## How many mature miRNAs are associated with the pre-miRNA transcripts?\n",
    "\n",
    "So no surprises here. Now let's get the total number of and IDs of all mature miRNAs for a given pre-miR. We store this in a dictionary `premirs` with the attribute field of pre-miRs as keys and the number of associated mature miRNAs as values."
   ]
  },
  {
   "cell_type": "code",
   "execution_count": 4,
   "id": "468c43f4",
   "metadata": {},
   "outputs": [],
   "source": [
    "last_premir = None\n",
    "premirs = {}\n",
    "matures = []\n",
    "with open(\"hsa.gff3\") as _file:\n",
    "    for record in _file:\n",
    "        if record.startswith(\"#\"):\n",
    "            continue\n",
    "        record = record.split()\n",
    "        if record[2] == \"miRNA_primary_transcript\":\n",
    "            # conclude processing of last pre-miR record\n",
    "            if last_premir is not None:\n",
    "                premirs[last_premir] = len(matures)\n",
    "                matures = []\n",
    "            last_premir = record[8]\n",
    "        else:\n",
    "            matures.append(record[8])\n",
    "# account for very last record\n",
    "premirs[last_premir] = len(matures)"
   ]
  },
  {
   "cell_type": "markdown",
   "id": "84c59faf",
   "metadata": {},
   "source": [
    "Now let's check if all pre-miRs and mature miRs are accounted for:"
   ]
  },
  {
   "cell_type": "code",
   "execution_count": 5,
   "id": "0ea43bd1",
   "metadata": {},
   "outputs": [
    {
     "name": "stdout",
     "output_type": "stream",
     "text": [
      "Number of pre-miR records: 1918\n",
      "Number of mature miRNA records: 2883\n"
     ]
    }
   ],
   "source": [
    "print(f\"Number of pre-miR records: {len(premirs)}\")\n",
    "print(f\"Number of mature miRNA records: {sum(matures for matures in premirs.values())}\")"
   ]
  },
  {
   "cell_type": "markdown",
   "id": "d54281b6",
   "metadata": {},
   "source": [
    "Good. Now let's check how many pre-miRs have how many mature miRNAs associated with them:"
   ]
  },
  {
   "cell_type": "code",
   "execution_count": 6,
   "id": "da720564",
   "metadata": {},
   "outputs": [
    {
     "name": "stdout",
     "output_type": "stream",
     "text": [
      "Out of the 1918 pre-miRNA transcripts,\n",
      "- 965 have 2 mature miRNAs\n",
      "- 953 have 1 mature miRNAs\n",
      "associated with them, accounting for a total of 2883 mature miRNAs.\n"
     ]
    }
   ],
   "source": [
    "from collections import defaultdict\n",
    "\n",
    "matures_per_premir = defaultdict(lambda: 0)\n",
    "for premir, matures in premirs.items():\n",
    "    matures_per_premir[matures] += 1 \n",
    "\n",
    "print(f\"Out of the {sum(matures_per_premir.values())} pre-miRNA transcripts,\")\n",
    "for n_mature, count in matures_per_premir.items():\n",
    "    print(f\"- {count} have {n_mature} mature miRNAs\")\n",
    "n_matures = sum({n_mature: n_mature * count for n_mature, count in matures_per_premir.items()}.values())\n",
    "print(f\"associated with them, accounting for a total of {n_matures} mature miRNAs.\")"
   ]
  },
  {
   "cell_type": "markdown",
   "id": "6d5b553f",
   "metadata": {},
   "source": [
    "## Conclusion\n",
    "\n",
    "We have established that `hsa.gff3` contains 4814 lines:\n",
    "- 13 comment lines\n",
    "- 1918 pre-miR transcript records\n",
    "- 2883 mature miRNA records\n",
    "\n",
    "Out of the 1918 pre-miRNA records,\n",
    "- 953 have 1 mature miRNA\n",
    "- 965 have 2 mature miRNAs\n",
    "\n",
    "associated with them, accounting for all 2883 mature miRNAs.\n",
    "\n",
    "This means that that **all of the 1918 pre-miRNA transcript have exactly one or two mature miRNAs associated with them**!"
   ]
  }
 ],
 "metadata": {
  "kernelspec": {
   "display_name": "Python 3 (ipykernel)",
   "language": "python",
   "name": "python3"
  },
  "language_info": {
   "codemirror_mode": {
    "name": "ipython",
    "version": 3
   },
   "file_extension": ".py",
   "mimetype": "text/x-python",
   "name": "python",
   "nbconvert_exporter": "python",
   "pygments_lexer": "ipython3",
   "version": "3.10.9"
  }
 },
 "nbformat": 4,
 "nbformat_minor": 5
}
